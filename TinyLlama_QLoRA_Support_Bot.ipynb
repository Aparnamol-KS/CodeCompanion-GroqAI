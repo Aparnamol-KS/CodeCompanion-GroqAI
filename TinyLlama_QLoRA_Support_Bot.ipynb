{
  "cells": [
    {
      "cell_type": "markdown",
      "metadata": {
        "id": "view-in-github",
        "colab_type": "text"
      },
      "source": [
        "<a href=\"https://colab.research.google.com/github/Aparnamol-KS/CodeCompanion-GroqAI/blob/main/TinyLlama_QLoRA_Support_Bot.ipynb\" target=\"_parent\"><img src=\"https://colab.research.google.com/assets/colab-badge.svg\" alt=\"Open In Colab\"/></a>"
      ]
    },
    {
      "cell_type": "markdown",
      "id": "feabc791",
      "metadata": {
        "id": "feabc791"
      },
      "source": [
        "# 🚀 Fine-Tune TinyLlama-1.1B with QLoRA on Health Data"
      ]
    },
    {
      "cell_type": "code",
      "execution_count": null,
      "id": "066442e8",
      "metadata": {
        "id": "066442e8"
      },
      "outputs": [],
      "source": [
        "!pip install -q bitsandbytes accelerate datasets loralib peft transformers trl\n"
      ]
    },
    {
      "cell_type": "code",
      "execution_count": null,
      "id": "d85525b1",
      "metadata": {
        "id": "d85525b1"
      },
      "outputs": [],
      "source": [
        "import torch\n",
        "from datasets import Dataset\n",
        "from transformers import AutoTokenizer, AutoModelForCausalLM, TrainingArguments, Trainer, BitsAndBytesConfig\n",
        "from peft import LoraConfig, get_peft_model, prepare_model_for_kbit_training\n"
      ]
    },
    {
      "cell_type": "code",
      "execution_count": null,
      "id": "4acdc5ae",
      "metadata": {
        "id": "4acdc5ae"
      },
      "outputs": [],
      "source": [
        "model_name = \"TinyLlama/TinyLlama-1.1B-Chat-v1.0\"\n",
        "\n",
        "bnb_config = BitsAndBytesConfig(\n",
        "    load_in_4bit=True,\n",
        "    bnb_4bit_compute_dtype=torch.float16,\n",
        "    bnb_4bit_use_double_quant=True,\n",
        "    bnb_4bit_quant_type=\"nf4\",\n",
        ")\n",
        "\n",
        "model = AutoModelForCausalLM.from_pretrained(\n",
        "    model_name,\n",
        "    quantization_config=bnb_config,\n",
        "    device_map=\"auto\"\n",
        ")\n",
        "\n",
        "tokenizer = AutoTokenizer.from_pretrained(model_name, use_fast=True)\n",
        "tokenizer.pad_token = tokenizer.eos_token\n",
        "model.config.use_cache = False\n"
      ]
    },
    {
      "cell_type": "code",
      "execution_count": null,
      "id": "e50fe3fc",
      "metadata": {
        "id": "e50fe3fc"
      },
      "outputs": [],
      "source": [
        "model.gradient_checkpointing_enable()\n",
        "model = prepare_model_for_kbit_training(model)\n",
        "\n",
        "lora_config = LoraConfig(\n",
        "    r=8,\n",
        "    lora_alpha=32,\n",
        "    target_modules=[\"q_proj\", \"v_proj\"],\n",
        "    lora_dropout=0.05,\n",
        "    bias=\"none\",\n",
        "    task_type=\"CAUSAL_LM\"\n",
        ")\n",
        "\n",
        "model = get_peft_model(model, lora_config)\n"
      ]
    },
    {
      "cell_type": "code",
      "source": [
        "from google.colab import files\n",
        "uploaded = files.upload()\n"
      ],
      "metadata": {
        "id": "0CddcO6RuG2z"
      },
      "id": "0CddcO6RuG2z",
      "execution_count": null,
      "outputs": []
    },
    {
      "cell_type": "code",
      "source": [
        "import json\n",
        "\n",
        "filename = 'health_dataset_500.json'\n",
        "\n",
        "with open(filename, 'r') as file:\n",
        "    data = json.load(file)\n"
      ],
      "metadata": {
        "id": "OU0ddYoduHpT"
      },
      "id": "OU0ddYoduHpT",
      "execution_count": null,
      "outputs": []
    },
    {
      "cell_type": "code",
      "execution_count": null,
      "id": "5caaba73",
      "metadata": {
        "id": "5caaba73"
      },
      "outputs": [],
      "source": [
        "\n",
        "dataset = Dataset.from_list(data)\n",
        "\n",
        "def format_instruction(example):\n",
        "    return f\"### Instruction:\\n{example['instruction']}\\n\\n### Response:\\n{example['output']}\"\n",
        "\n",
        "dataset = dataset.map(lambda x: {\"text\": format_instruction(x)})\n"
      ]
    },
    {
      "cell_type": "code",
      "source": [],
      "metadata": {
        "id": "d7HkXZr7uFin"
      },
      "id": "d7HkXZr7uFin",
      "execution_count": null,
      "outputs": []
    },
    {
      "cell_type": "code",
      "execution_count": null,
      "id": "64991825",
      "metadata": {
        "id": "64991825"
      },
      "outputs": [],
      "source": [
        "def tokenize_function(example):\n",
        "    tokenized = tokenizer(example[\"text\"], truncation=True, padding=\"max_length\", max_length=512)\n",
        "    tokenized[\"labels\"] = tokenized[\"input_ids\"].copy()\n",
        "    return tokenized\n",
        "\n",
        "tokenized_dataset = dataset.map(tokenize_function, batched=True)\n"
      ]
    },
    {
      "cell_type": "code",
      "execution_count": null,
      "id": "74dbc0a4",
      "metadata": {
        "id": "74dbc0a4"
      },
      "outputs": [],
      "source": [
        "training_args = TrainingArguments(\n",
        "    output_dir=\"./tinyllama-qlora-support-bot\",\n",
        "    per_device_train_batch_size=2,\n",
        "    gradient_accumulation_steps=4,\n",
        "    learning_rate=2e-4,\n",
        "    logging_dir=\"./logs\",\n",
        "    num_train_epochs=3,\n",
        "    logging_steps=10,\n",
        "    save_total_limit=2,\n",
        "    save_strategy=\"epoch\",\n",
        "    bf16=True,\n",
        "    optim=\"paged_adamw_8bit\"\n",
        ")\n"
      ]
    },
    {
      "cell_type": "code",
      "execution_count": null,
      "id": "ac46d165",
      "metadata": {
        "id": "ac46d165"
      },
      "outputs": [],
      "source": [
        "trainer = Trainer(\n",
        "    model=model,\n",
        "    args=training_args,\n",
        "    train_dataset=tokenized_dataset,\n",
        "    tokenizer=tokenizer\n",
        ")\n",
        "\n",
        "trainer.train()"
      ]
    },
    {
      "cell_type": "code",
      "execution_count": null,
      "id": "a285233e",
      "metadata": {
        "id": "a285233e"
      },
      "outputs": [],
      "source": [
        "model.save_pretrained(\"tinyllama-qlora-support-bot\")\n",
        "tokenizer.save_pretrained(\"tinyllama-qlora-support-bot\")"
      ]
    },
    {
      "cell_type": "code",
      "source": [
        "from google.colab import drive\n",
        "drive.mount('/content/drive')"
      ],
      "metadata": {
        "id": "SNWE9TmH4CPl"
      },
      "id": "SNWE9TmH4CPl",
      "execution_count": null,
      "outputs": []
    },
    {
      "cell_type": "code",
      "source": [
        "!cp -r /content/tinyllama-qlora-support-bot /content/drive/MyDrive/tinybotphonesaved"
      ],
      "metadata": {
        "id": "2sROPL27LhHL"
      },
      "id": "2sROPL27LhHL",
      "execution_count": null,
      "outputs": []
    },
    {
      "cell_type": "code",
      "source": [
        "from transformers import AutoModelForCausalLM, AutoTokenizer\n",
        "\n",
        "model_path = \"/content/drive/MyDrive/tinybotphonesaved\"\n",
        "\n",
        "model = AutoModelForCausalLM.from_pretrained(model_path)\n",
        "tokenizer = AutoTokenizer.from_pretrained(model_path)\n"
      ],
      "metadata": {
        "id": "VbJSskAkL9ql"
      },
      "id": "VbJSskAkL9ql",
      "execution_count": null,
      "outputs": []
    },
    {
      "cell_type": "code",
      "source": [
        "from transformers import pipeline\n",
        "\n",
        "pipe = pipeline(\"text-generation\", model=model, tokenizer=tokenizer)\n",
        "\n",
        "instruction = \"How to manage stress in my life?\"\n",
        "prompt = f\"### Instruction:\\n{instruction}\\n\\n### Response:\\n\"\n",
        "\n",
        "output = pipe(prompt, max_new_tokens=100)\n",
        "print(output[0]['generated_text'])\n"
      ],
      "metadata": {
        "id": "CfrMfyRjNc1P"
      },
      "id": "CfrMfyRjNc1P",
      "execution_count": null,
      "outputs": []
    },
    {
      "cell_type": "code",
      "source": [
        "pip install -q gradio"
      ],
      "metadata": {
        "id": "N21YRxR5OaeC"
      },
      "id": "N21YRxR5OaeC",
      "execution_count": null,
      "outputs": []
    },
    {
      "cell_type": "code",
      "source": [
        "import gradio as gr\n",
        "pipe = pipeline(\"text-generation\", model=model, tokenizer=tokenizer)\n",
        "\n",
        "def format_prompt(instruction):\n",
        "    return f\"### Instruction:\\n{instruction}\\n\\n### Response:\\n\"\n",
        "\n",
        "def chat_response(message, chat_history):\n",
        "    prompt = format_prompt(message)\n",
        "    output = pipe(prompt, max_new_tokens=100, do_sample=True, temperature=0.7)\n",
        "    generated_text = output[0]['generated_text']\n",
        "    response = generated_text.split(\"### Response:\\n\")[-1].strip()\n",
        "    chat_history.append((message, response))\n",
        "    return \"\", chat_history\n",
        "\n",
        "with gr.Blocks(theme=gr.themes.Soft()) as demo:\n",
        "    gr.Markdown(\"# 🩺 Health Support Chatbot\\nAsk anything related to wellness, healthy habits, sleep, stress, or self-care.\")\n",
        "\n",
        "    chatbot = gr.Chatbot()\n",
        "    msg = gr.Textbox(label=\"Your Question\", placeholder=\"e.g., How to sleep better?\", lines=1)\n",
        "    clear = gr.Button(\"Clear Chat\")\n",
        "\n",
        "    msg.submit(chat_response, [msg, chatbot], [msg, chatbot])\n",
        "    clear.click(lambda: None, None, chatbot, queue=False)\n",
        "\n",
        "# Launch the app\n",
        "demo.launch()"
      ],
      "metadata": {
        "id": "j333dsuQQN_C"
      },
      "id": "j333dsuQQN_C",
      "execution_count": null,
      "outputs": []
    }
  ],
  "metadata": {
    "colab": {
      "provenance": [],
      "gpuType": "T4",
      "include_colab_link": true
    },
    "accelerator": "GPU",
    "language_info": {
      "name": "python"
    },
    "kernelspec": {
      "name": "python3",
      "display_name": "Python 3"
    }
  },
  "nbformat": 4,
  "nbformat_minor": 5
}